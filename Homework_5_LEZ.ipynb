{
 "cells": [
  {
   "cell_type": "code",
   "execution_count": 2,
   "metadata": {},
   "outputs": [
    {
     "data": {
      "text/html": [
       "<div>\n",
       "<style scoped>\n",
       "    .dataframe tbody tr th:only-of-type {\n",
       "        vertical-align: middle;\n",
       "    }\n",
       "\n",
       "    .dataframe tbody tr th {\n",
       "        vertical-align: top;\n",
       "    }\n",
       "\n",
       "    .dataframe thead th {\n",
       "        text-align: right;\n",
       "    }\n",
       "</style>\n",
       "<table border=\"1\" class=\"dataframe\">\n",
       "  <thead>\n",
       "    <tr style=\"text-align: right;\">\n",
       "      <th></th>\n",
       "      <th>city</th>\n",
       "      <th>date</th>\n",
       "      <th>fare</th>\n",
       "      <th>ride_id</th>\n",
       "      <th>driver_count</th>\n",
       "      <th>type</th>\n",
       "    </tr>\n",
       "  </thead>\n",
       "  <tbody>\n",
       "    <tr>\n",
       "      <th>0</th>\n",
       "      <td>Lake Jonathanshire</td>\n",
       "      <td>2018-01-14 10:14:22</td>\n",
       "      <td>13.83</td>\n",
       "      <td>5739410935873</td>\n",
       "      <td>5</td>\n",
       "      <td>Urban</td>\n",
       "    </tr>\n",
       "    <tr>\n",
       "      <th>1</th>\n",
       "      <td>Lake Jonathanshire</td>\n",
       "      <td>2018-04-07 20:51:11</td>\n",
       "      <td>31.25</td>\n",
       "      <td>4441251834598</td>\n",
       "      <td>5</td>\n",
       "      <td>Urban</td>\n",
       "    </tr>\n",
       "    <tr>\n",
       "      <th>2</th>\n",
       "      <td>Lake Jonathanshire</td>\n",
       "      <td>2018-03-09 23:45:55</td>\n",
       "      <td>19.89</td>\n",
       "      <td>2389495660448</td>\n",
       "      <td>5</td>\n",
       "      <td>Urban</td>\n",
       "    </tr>\n",
       "    <tr>\n",
       "      <th>3</th>\n",
       "      <td>Lake Jonathanshire</td>\n",
       "      <td>2018-04-07 18:09:21</td>\n",
       "      <td>24.28</td>\n",
       "      <td>7796805191168</td>\n",
       "      <td>5</td>\n",
       "      <td>Urban</td>\n",
       "    </tr>\n",
       "    <tr>\n",
       "      <th>4</th>\n",
       "      <td>Lake Jonathanshire</td>\n",
       "      <td>2018-01-02 14:14:50</td>\n",
       "      <td>13.89</td>\n",
       "      <td>424254840012</td>\n",
       "      <td>5</td>\n",
       "      <td>Urban</td>\n",
       "    </tr>\n",
       "  </tbody>\n",
       "</table>\n",
       "</div>"
      ],
      "text/plain": [
       "                 city                 date   fare        ride_id  \\\n",
       "0  Lake Jonathanshire  2018-01-14 10:14:22  13.83  5739410935873   \n",
       "1  Lake Jonathanshire  2018-04-07 20:51:11  31.25  4441251834598   \n",
       "2  Lake Jonathanshire  2018-03-09 23:45:55  19.89  2389495660448   \n",
       "3  Lake Jonathanshire  2018-04-07 18:09:21  24.28  7796805191168   \n",
       "4  Lake Jonathanshire  2018-01-02 14:14:50  13.89   424254840012   \n",
       "\n",
       "   driver_count   type  \n",
       "0             5  Urban  \n",
       "1             5  Urban  \n",
       "2             5  Urban  \n",
       "3             5  Urban  \n",
       "4             5  Urban  "
      ]
     },
     "execution_count": 2,
     "metadata": {},
     "output_type": "execute_result"
    }
   ],
   "source": [
    "%matplotlib inline\n",
    "# Dependencies and Setup\n",
    "import matplotlib.pyplot as plt\n",
    "import pandas as pd\n",
    "import numpy as np\n",
    "colors = [\"Gold\", \"lightskyblue\", \"lightcoral\"]\n",
    "# File to Load (Remember to change these)\n",
    "city_data_to_load = \"data/city_data.csv\"\n",
    "ride_data_to_load = \"data/ride_data.csv\"\n",
    "\n",
    "# Read the City and Ride Data\n",
    "city_data = pd.read_csv(\"data/city_data.csv\")\n",
    "# city_data\n",
    "ride_data = pd.read_csv(\"data/ride_data.csv\")\n",
    "#ride_data\n",
    "#unemployed_data_one = pd.read_csv(\"../Resources/unemployment_2010-2011.csv\")\n",
    "#unemployed_data_two = pd.read_csv(\"../Resources/unemployment_2012-2014.csv\")\n",
    "\n",
    "# Combine the data into a single dataset\n",
    "#combined_unemployed_data = pd.merge(unemployed_data_one, unemployed_data_two, on=\"Country Name\")\n",
    "#combined_unemployed_data.head()\n",
    "combined_city_ride_data = pd.merge(ride_data, city_data, on=\"city\")\n",
    "\n",
    "# Display the data table for preview\n",
    "combined_city_ride_data.head()\n",
    "#combined_city_ride_data.count()\n",
    "# combined_city_ride_data.dtypes\n",
    "# source_cols = combined_city_ride_data.columns\n",
    "# print(source_cols)\n",
    "\n",
    "#combined_city_ride_data.apply(pd.Series.value_counts) #error on type\n"
   ]
  },
  {
   "cell_type": "code",
   "execution_count": 3,
   "metadata": {
    "scrolled": true
   },
   "outputs": [],
   "source": [
    "# * Average Fare ($) Per City\n",
    "# * Total Number of Rides Per City\n",
    "# * Total Number of Drivers Per City\n",
    "# * City Type (Urban, Suburban, Rural)"
   ]
  },
  {
   "cell_type": "markdown",
   "metadata": {},
   "source": [
    "## Bubble Plot of Ride Sharing Data"
   ]
  },
  {
   "cell_type": "code",
   "execution_count": 28,
   "metadata": {},
   "outputs": [
    {
     "data": {
      "image/png": "[encoded data removed]",
      "text/plain": [
       "<Figure size 432x288 with 1 Axes>"
      ]
     },
     "metadata": {
      "needs_background": "light"
     },
     "output_type": "display_data"
    }
   ],
   "source": [
    "#combined_city_ride_data.head()\n",
    "# Create a group based on the values in the 'type' column\n",
    "# scatter_group = combined_city_ride_data.groupby('type')\n",
    "# scatter_group.head()\n",
    "#Split dataframes by type\n",
    "x_limit = 45\n",
    "urban_type = combined_city_ride_data.loc[combined_city_ride_data[\"type\"] == \"Urban\", :]\n",
    "suburban_type = combined_city_ride_data.loc[combined_city_ride_data[\"type\"] == \"Suburban\", :]\n",
    "rural_type = combined_city_ride_data.loc[combined_city_ride_data[\"type\"] == \"Rural\", :]\n",
    "#print(rural_type)\n",
    "\n",
    "#Calcualte by type average fare and total rides\n",
    "urban_type_city = urban_type.groupby(\"city\")\n",
    "urban_type_tot = urban_type_city['ride_id'].count()\n",
    "\n",
    "suburban_type_city = suburban_type.groupby(\"city\")\n",
    "suburban_type_tot = suburban_type['ride_id'].count()\n",
    "\n",
    "rural_type_city = rural_type.groupby(\"city\")\n",
    "rural_type_tot = rural_type['ride_id'].count()\n",
    "#print(rural_type_tot)\n",
    "\n",
    "urban_type_avg = urban_type_city['fare'].mean()\n",
    "suburban_type_avg = suburban_type_city['fare'].mean()\n",
    "rural_type_avg = rural_type_city['fare'].mean()\n",
    "# print(rural_type_avg)\n",
    "############test  - -- -down\n",
    "# # The maximum x value for our chart will be 100\n",
    "# x_limit = 1625\n",
    "# # List of values from 0 to 100 each value being 1 greater than the last\n",
    "# x_axis = np.arange(0, x_limit, 1)\n",
    "####################\n",
    "\n",
    "urban_line = plt.scatter(urban_type_tot, urban_type_avg, marker=\"o\", facecolors=\"red\", edgecolors=\"black\", s=urban_type_tot,\n",
    "            alpha=0.75, label=\"Urban\")\n",
    "# suburban_line = plt.scatter(suburban_type_tot, suburban_type_avg, marker=\"o\", facecolors=\"blue\", edgecolors=\"black\", \n",
    "#                             s=suburban_type_tot, alpha=0.75, label=\"Subrban\")\n",
    "# rural_line = plt.scatter(rural_type_tot, rural_type_avg, marker=\"o\", facecolors=\"blue\", edgecolors=\"black\", \n",
    "#                             s=rural_type_tot, alpha=0.75, label=\"Rural\")\n",
    "plt.title(\"Pybar Ride Sharing 2016\")\n",
    "plt.xlabel(\"Average Fare ($)\")\n",
    "plt.ylabel(\"Total number of rides (per City)\")\n",
    "plt.ylim(0,80)\n",
    "# The x limits of our scatter plot is 0 to 100\n",
    "plt.xlim(0, x_limit)\n",
    "# Create a legend for our chart\n",
    "plt.legend(handles=[urban_line], loc=\"best\") #,suburban_line, rural_line\n",
    "plt.show()\n",
    "#############Below represents previous attempts\n",
    "# drive_sum = scatter_group['ride_id'].count()\n",
    "# # print(drive_sum)\n",
    "# # # x = drive_sum\n",
    "# avg_fare = scatter_group['fare'].mean()\n",
    "# print(avg_fare)\n",
    "# # y = avg_fare\n",
    "# Obtain the x and y coordinates for each of the three city types\n",
    "# total_rides = combined_city_ride_data['ride_id'].count()\n",
    "# # print(total_rides)\n",
    "# # #Average Fares - - Y\n",
    "# # y = combined_city_ride_data['ride_id'].mean()\n",
    "# scatter_group.plot(kind=\"scatter\", x=\"drive_sum\", y=\"avg_fare\", grid=True, figsize=(20,10),\n",
    "#               title=\"Horsepower Vs. MPG\")\n",
    "# plt.show()\n",
    "# scatter_group.pyplot.scatter(x, y, s=None, c=None, marker=None, cmap=None, \n",
    "# norm=None, vmin=None, vmax=None, alpha=None, linewidths=None, verts=None, \n",
    "# edgecolors=None, hold=None, data=None, **kwargs)\n",
    "# # x = np.arange(len(combined_city_ride_data))\n",
    "# x = combined_city_ride_data.type\n",
    "# y = combined_city_ride_data.fare\n",
    "# plt.scatter(x, y, marker='o') \n",
    "# Build the scatter plots for each city types\n",
    "# N = 50\n",
    "# x = total_rides\n",
    "# y = np.random.rand(N)\n",
    "# colors = np.random.rand(N)\n",
    "# area = np.pi * (15 * np.random.rand(N))**2  # 0 to 15 point radii\n",
    "\n",
    "# plt.scatter(x, y, s=area, c=colors, alpha=0.5)\n",
    "# plt.show()\n",
    "# Create a scatter plot which compares MPG to horsepower\n",
    "# combined_city_ride_data.plot(kind=\"scatter\", x=\"????\", y=(total_type_count), grid=True, title=\"Fare Vs. type\")\n",
    "# plt.show()\n",
    "# Incorporate the other graph properties\n",
    "\n",
    "# Create a legend\n",
    "\n",
    "# Incorporate a text label regarding circle size\n",
    "\n",
    "# Save Figure\n"
   ]
  },
  {
   "cell_type": "code",
   "execution_count": 5,
   "metadata": {},
   "outputs": [],
   "source": [
    "# Show plot\n",
    "plt.show()"
   ]
  },
  {
   "cell_type": "markdown",
   "metadata": {},
   "source": [
    "## Total Fares by City Type"
   ]
  },
  {
   "cell_type": "code",
   "execution_count": 280,
   "metadata": {},
   "outputs": [
    {
     "data": {
      "image/png": "[encoded data removed]",
      "text/plain": [
       "<Figure size 432x288 with 1 Axes>"
      ]
     },
     "metadata": {},
     "output_type": "display_data"
    }
   ],
   "source": [
    "# Calculate Type Percents\n",
    "#combined_city_ride_data.head()\n",
    "\n",
    "# Count how many fares by type\n",
    "# total_fares = combined_city_ride_data[\"fare\"].sum()\n",
    "# print(total_fares)\n",
    "# uniq_types = combined_city_ride_data[\"type\"].unique()\n",
    "# print(uniq_types)\n",
    "# type_counts = combined_city_ride_data[\"type\"].value_counts()\n",
    "# print(type_counts.head())\n",
    "\n",
    "type_groups = combined_city_ride_data.groupby('type')\n",
    "#type_groups.head()\n",
    "sum_it_up = type_groups.sum()\n",
    "del sum_it_up['ride_id']\n",
    "del sum_it_up['driver_count']\n",
    "# sum_it_up.head(12)\n",
    "\n",
    "##############\n",
    "\n",
    "explode = (0, 0, 0.1)\n",
    "# # Tell matplotlib to create a pie chart based upon the above date\n",
    "plt.title('% of Total Fares by City Type')\n",
    "plt.pie(sum_it_up, explode=explode, labels=uniq_types, colors=colors, \n",
    "                       autopct='%1.1f%%', shadow=True, startangle=140)\n",
    "\n",
    "# # Create axes which are equal so we have a perfect circle\n",
    "plt.show()#(\"equal\")\n",
    "#plt.axis(\"equal\")\n",
    "\n"
   ]
  },
  {
   "cell_type": "code",
   "execution_count": 210,
   "metadata": {},
   "outputs": [],
   "source": [
    "# Show Figure\n",
    "#plt.show()"
   ]
  },
  {
   "cell_type": "markdown",
   "metadata": {},
   "source": [
    "## Total Rides by City Type"
   ]
  },
  {
   "cell_type": "code",
   "execution_count": 274,
   "metadata": {},
   "outputs": [
    {
     "data": {
      "image/png": "[encoded data removed]",
      "text/plain": [
       "<Figure size 432x288 with 1 Axes>"
      ]
     },
     "metadata": {},
     "output_type": "display_data"
    }
   ],
   "source": [
    "#combined_city_ride_data.head()\n",
    "\n",
    "# Count how many fares by type\n",
    "uniq_types = combined_city_ride_data[\"type\"].unique()\n",
    "#print(uniq_types)\n",
    "\n",
    "type_counts = combined_city_ride_data[\"type\"].value_counts()\n",
    "# print(type_counts.head())\n",
    "\n",
    "#type_loc = list(type_counts.type)\n",
    "#print(list(combined_city_ride_data.columns.values))\n",
    "#print(list(type_counts.head()))\n",
    "\n",
    "#print(type_loc)\n",
    "#total_type_count = combined_city_ride_data[\"type\"].count()\n",
    "#total_type_count.head()\n",
    "#print(total_type_count)\n",
    "\n",
    "##############\n",
    "\n",
    "explode = (0.1, 0, 0)\n",
    "# Tell matplotlib to create a pie chart based upon the above data\n",
    "plt.title('% of Total Rides by City Type')\n",
    "ride_by = plt.pie(type_counts, explode=explode, labels=uniq_types, colors=colors, \n",
    "        autopct='%1.1f%%', \n",
    "        shadow=True, \n",
    "        startangle=80)#, name='series')#, title=(\"Percent of total rides by city type\"))\n",
    "#ride_by.set_ylabel(\"Trip Duration\")\n",
    "# Create axes which are equal so we have a perfect circle\n",
    "plt.show()#(\"equal\")"
   ]
  },
  {
   "cell_type": "code",
   "execution_count": 232,
   "metadata": {},
   "outputs": [],
   "source": [
    "# Show Figure\n",
    "plt.show()"
   ]
  },
  {
   "cell_type": "markdown",
   "metadata": {},
   "source": [
    "## Total Drivers by City Type"
   ]
  },
  {
   "cell_type": "code",
   "execution_count": 279,
   "metadata": {},
   "outputs": [
    {
     "data": {
      "image/png": "[encoded data removed]",
      "text/plain": [
       "<Figure size 432x288 with 1 Axes>"
      ]
     },
     "metadata": {},
     "output_type": "display_data"
    }
   ],
   "source": [
    "# combined_city_ride_data.head()\n",
    "# Calculate Driver Percents\n",
    "# total_drivers = combined_city_ride_data[\"driver_count\"].sum()\n",
    "# print(total_drivers)\n",
    "# Create a group based on the values in the 'type' column\n",
    "driver_group = city_data.groupby('type')\n",
    "\n",
    "# Count how many times each maker appears in our group\n",
    "count_makers = driver_group['driver_count'].sum()\n",
    "\n",
    "count_makers\n",
    "\n",
    "\n",
    "# # Build Pie Charts\n",
    "explode = (0, 0, 0.1)\n",
    "# Tell matplotlib to create a pie chart based upon the above data\n",
    "# tot_drivers = \n",
    "plt.title('% of Total Drivers by City Type')\n",
    "plt.pie(count_makers, explode=explode, labels=uniq_types, colors=colors, autopct='%1.1f%%', shadow=True, startangle=100)\n",
    "#, name='series')#, title=(\"Percent of total rides by city type\"))\n",
    "#ride_by.set_ylabel(\"Trip Duration\")\n",
    "# Create axes which are equal so we have a perfect circle\n",
    "plt.show()#(\"equal\")\n",
    "\n"
   ]
  },
  {
   "cell_type": "code",
   "execution_count": 234,
   "metadata": {
    "scrolled": true
   },
   "outputs": [],
   "source": [
    "# Show Figure\n",
    "plt.show()"
   ]
  },
  {
   "cell_type": "code",
   "execution_count": null,
   "metadata": {},
   "outputs": [],
   "source": []
  }
 ],
 "metadata": {
  "anaconda-cloud": {},
  "kernelspec": {
   "display_name": "Python 3",
   "language": "python",
   "name": "python3"
  },
  "language_info": {
   "codemirror_mode": {
    "name": "ipython",
    "version": 3
   },
   "file_extension": ".py",
   "mimetype": "text/x-python",
   "name": "python",
   "nbconvert_exporter": "python",
   "pygments_lexer": "ipython3",
   "version": "3.6.6"
  }
 },
 "nbformat": 4,
 "nbformat_minor": 2
}
